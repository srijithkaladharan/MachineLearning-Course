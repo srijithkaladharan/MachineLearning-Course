{
 "cells": [
  {
   "cell_type": "code",
   "execution_count": 1,
   "metadata": {},
   "outputs": [],
   "source": [
    "from sklearn.datasets import load_iris"
   ]
  },
  {
   "cell_type": "code",
   "execution_count": 2,
   "metadata": {},
   "outputs": [],
   "source": [
    "iris = load_iris()"
   ]
  },
  {
   "cell_type": "code",
   "execution_count": 3,
   "metadata": {},
   "outputs": [],
   "source": [
    "data_ip = iris.data\n",
    "data_op = iris.target"
   ]
  },
  {
   "cell_type": "code",
   "execution_count": 4,
   "metadata": {},
   "outputs": [],
   "source": [
    "from sklearn.model_selection import KFold\n",
    "\n",
    "kf = KFold(n_splits=5, shuffle=True)"
   ]
  },
  {
   "cell_type": "code",
   "execution_count": 6,
   "metadata": {},
   "outputs": [
    {
     "name": "stdout",
     "output_type": "stream",
     "text": [
      "Train Set                    Test Set\n",
      "[  1   2   3   5   6   7   8  12  14  15  17  18  19  20  22  23  24  25\n",
      "  26  27  28  29  30  31  33  34  35  36  37  38  39  41  43  45  46  49\n",
      "  50  51  53  54  55  56  57  58  59  60  61  62  63  64  65  66  67  68\n",
      "  69  72  73  74  75  76  77  78  80  81  82  83  87  88  90  91  93  94\n",
      "  95  96  97  98 100 101 102 103 104 105 106 107 108 110 111 112 113 114\n",
      " 115 116 117 118 119 120 121 122 123 124 125 126 127 128 129 130 131 132\n",
      " 133 136 137 138 141 142 143 144 145 146 147 148] [  0   4   9  10  11  13  16  21  32  40  42  44  47  48  52  70  71  79\n",
      "  84  85  86  89  92  99 109 134 135 139 140 149]\n",
      "[  0   1   2   4   6   7   8   9  10  11  13  14  15  16  17  18  21  22\n",
      "  23  24  25  26  27  28  29  30  31  32  33  34  37  39  40  41  42  44\n",
      "  45  46  47  48  49  50  51  52  53  54  57  60  61  62  63  64  65  67\n",
      "  70  71  72  73  74  75  77  78  79  81  82  83  84  85  86  87  88  89\n",
      "  90  92  93  94  95  96  98  99 101 103 104 105 106 109 110 112 113 114\n",
      " 115 116 117 118 119 121 122 123 124 125 126 127 129 130 131 132 133 134\n",
      " 135 137 138 139 140 142 143 145 146 147 148 149] [  3   5  12  19  20  35  36  38  43  55  56  58  59  66  68  69  76  80\n",
      "  91  97 100 102 107 108 111 120 128 136 141 144]\n",
      "[  0   1   2   3   4   5   6   7   9  10  11  12  13  14  16  17  19  20\n",
      "  21  22  23  24  26  27  29  30  31  32  33  35  36  38  40  42  43  44\n",
      "  45  46  47  48  49  50  51  52  54  55  56  57  58  59  60  65  66  68\n",
      "  69  70  71  75  76  77  78  79  80  81  83  84  85  86  87  89  90  91\n",
      "  92  93  95  96  97  98  99 100 102 103 104 105 106 107 108 109 110 111\n",
      " 112 113 114 115 116 117 118 120 121 122 126 127 128 129 130 132 134 135\n",
      " 136 138 139 140 141 143 144 145 146 147 148 149] [  8  15  18  25  28  34  37  39  41  53  61  62  63  64  67  72  73  74\n",
      "  82  88  94 101 119 123 124 125 131 133 137 142]\n",
      "[  0   1   2   3   4   5   6   7   8   9  10  11  12  13  15  16  17  18\n",
      "  19  20  21  23  25  28  32  33  34  35  36  37  38  39  40  41  42  43\n",
      "  44  47  48  49  52  53  55  56  57  58  59  61  62  63  64  65  66  67\n",
      "  68  69  70  71  72  73  74  75  76  78  79  80  81  82  84  85  86  87\n",
      "  88  89  91  92  94  95  97  98  99 100 101 102 103 105 107 108 109 110\n",
      " 111 112 113 115 118 119 120 123 124 125 126 127 128 129 131 132 133 134\n",
      " 135 136 137 138 139 140 141 142 143 144 148 149] [ 14  22  24  26  27  29  30  31  45  46  50  51  54  60  77  83  90  93\n",
      "  96 104 106 114 116 117 121 122 130 145 146 147]\n",
      "[  0   3   4   5   8   9  10  11  12  13  14  15  16  18  19  20  21  22\n",
      "  24  25  26  27  28  29  30  31  32  34  35  36  37  38  39  40  41  42\n",
      "  43  44  45  46  47  48  50  51  52  53  54  55  56  58  59  60  61  62\n",
      "  63  64  66  67  68  69  70  71  72  73  74  76  77  79  80  82  83  84\n",
      "  85  86  88  89  90  91  92  93  94  96  97  99 100 101 102 104 106 107\n",
      " 108 109 111 114 116 117 119 120 121 122 123 124 125 128 130 131 133 134\n",
      " 135 136 137 139 140 141 142 144 145 146 147 149] [  1   2   6   7  17  23  33  49  57  65  75  78  81  87  95  98 103 105\n",
      " 110 112 113 115 118 126 127 129 132 138 143 148]\n"
     ]
    }
   ],
   "source": [
    "print(\"Train Set                    Test Set\")\n",
    "for train_set,test_set in kf.split(data_ip):\n",
    "    print(train_set,test_set)"
   ]
  },
  {
   "cell_type": "code",
   "execution_count": 7,
   "metadata": {},
   "outputs": [],
   "source": [
    "from sklearn.ensemble import RandomForestClassifier\n",
    "\n",
    "rf_class = RandomForestClassifier(n_estimators=10)"
   ]
  },
  {
   "cell_type": "code",
   "execution_count": 8,
   "metadata": {},
   "outputs": [
    {
     "ename": "NameError",
     "evalue": "name 'accuracy' is not defined",
     "output_type": "error",
     "traceback": [
      "\u001b[1;31m---------------------------------------------------------------------------\u001b[0m",
      "\u001b[1;31mNameError\u001b[0m                                 Traceback (most recent call last)",
      "\u001b[1;32m<ipython-input-8-8ac123ceb388>\u001b[0m in \u001b[0;36m<module>\u001b[1;34m\u001b[0m\n\u001b[0;32m      1\u001b[0m \u001b[1;32mfrom\u001b[0m \u001b[0msklearn\u001b[0m\u001b[1;33m.\u001b[0m\u001b[0mmodel_selection\u001b[0m \u001b[1;32mimport\u001b[0m \u001b[0mcross_val_score\u001b[0m\u001b[1;33m\u001b[0m\u001b[1;33m\u001b[0m\u001b[0m\n\u001b[0;32m      2\u001b[0m \u001b[1;33m\u001b[0m\u001b[0m\n\u001b[1;32m----> 3\u001b[1;33m \u001b[0mprint\u001b[0m\u001b[1;33m(\u001b[0m\u001b[0mcross_val_score\u001b[0m\u001b[1;33m(\u001b[0m\u001b[0mrf_class\u001b[0m\u001b[1;33m,\u001b[0m\u001b[0mdata_ip\u001b[0m\u001b[1;33m,\u001b[0m\u001b[0mdata_op\u001b[0m\u001b[1;33m,\u001b[0m\u001b[0mscoring\u001b[0m\u001b[1;33m=\u001b[0m\u001b[0maccuracy\u001b[0m\u001b[1;33m,\u001b[0m\u001b[0mcv\u001b[0m\u001b[1;33m=\u001b[0m\u001b[1;36m10\u001b[0m\u001b[1;33m)\u001b[0m\u001b[1;33m)\u001b[0m\u001b[1;33m\u001b[0m\u001b[1;33m\u001b[0m\u001b[0m\n\u001b[0m",
      "\u001b[1;31mNameError\u001b[0m: name 'accuracy' is not defined"
     ]
    }
   ],
   "source": [
    "from sklearn.model_selection import cross_val_score\n",
    "\n",
    "print(cross_val_score(rf_class,data_ip,data_op,scoring='accuracy',cv=10))"
   ]
  },
  {
   "cell_type": "code",
   "execution_count": null,
   "metadata": {},
   "outputs": [],
   "source": []
  }
 ],
 "metadata": {
  "kernelspec": {
   "display_name": "Python 3",
   "language": "python",
   "name": "python3"
  },
  "language_info": {
   "codemirror_mode": {
    "name": "ipython",
    "version": 3
   },
   "file_extension": ".py",
   "mimetype": "text/x-python",
   "name": "python",
   "nbconvert_exporter": "python",
   "pygments_lexer": "ipython3",
   "version": "3.7.4"
  }
 },
 "nbformat": 4,
 "nbformat_minor": 2
}
